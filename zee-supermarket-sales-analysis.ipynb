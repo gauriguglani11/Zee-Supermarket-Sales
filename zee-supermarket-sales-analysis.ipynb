{
 "cells": [
  {
   "cell_type": "markdown",
   "id": "66619438",
   "metadata": {
    "papermill": {
     "duration": 0.018068,
     "end_time": "2022-03-07T09:01:49.210867",
     "exception": false,
     "start_time": "2022-03-07T09:01:49.192799",
     "status": "completed"
    },
    "tags": []
   },
   "source": [
    "# Dataset Description \n",
    "You have been provided with a dataset of Zee Supermarkets with stores in different cities of India. The \n",
    "dataset contains information about its Customers and their amount of purchases in terms of Spending Score. \n"
   ]
  },
  {
   "cell_type": "markdown",
   "id": "b141cc55",
   "metadata": {
    "papermill": {
     "duration": 0.015497,
     "end_time": "2022-03-07T09:01:49.244698",
     "exception": false,
     "start_time": "2022-03-07T09:01:49.229201",
     "status": "completed"
    },
    "tags": []
   },
   "source": [
    "## The Supermarket owner wants to analyse this data and improve its future sales based on the analysis "
   ]
  },
  {
   "cell_type": "markdown",
   "id": "8363b3c7",
   "metadata": {
    "_cell_guid": "b1076dfc-b9ad-4769-8c92-a6c4dae69d19",
    "_uuid": "8f2839f25d086af736a60e9eeb907d3b93b6e0e5",
    "papermill": {
     "duration": 0.015649,
     "end_time": "2022-03-07T09:01:49.276298",
     "exception": false,
     "start_time": "2022-03-07T09:01:49.260649",
     "status": "completed"
    },
    "tags": []
   },
   "source": [
    "# Task We are going to perform here are as follows:\n",
    "1. Load the Data. Check if any of the columns contain any Null values and remove them. Print the number\n",
    "of columns and their column names\n",
    "2. Calculate Measures of Central Tendency - Mean, Median, and Mode for the Annuallncome column and\n",
    "print their values\n",
    "3. Obtain different summary statistics (Variance, Standard Deviation, and Skewness) for the Spending\n",
    "Score column and print their values\n",
    "4. Detect Outliers based on data in Annuallncome and SpendingScore columns using Z-Score\n",
    "5.Detect Outliers based on data in CustomerAge and SpendingScore column using Scatter Plot"
   ]
  },
  {
   "cell_type": "markdown",
   "id": "11d26e5a",
   "metadata": {
    "papermill": {
     "duration": 0.015403,
     "end_time": "2022-03-07T09:01:49.307419",
     "exception": false,
     "start_time": "2022-03-07T09:01:49.292016",
     "status": "completed"
    },
    "tags": []
   },
   "source": [
    "# Load the Data. Check if any of the columns contain any Null values and remove them. Print the number of columns and their column names"
   ]
  },
  {
   "cell_type": "code",
   "execution_count": 1,
   "id": "16731201",
   "metadata": {
    "execution": {
     "iopub.execute_input": "2022-03-07T09:01:49.345217Z",
     "iopub.status.busy": "2022-03-07T09:01:49.343529Z",
     "iopub.status.idle": "2022-03-07T09:01:49.371948Z",
     "shell.execute_reply": "2022-03-07T09:01:49.372486Z",
     "shell.execute_reply.started": "2022-03-07T08:03:15.011795Z"
    },
    "papermill": {
     "duration": 0.049429,
     "end_time": "2022-03-07T09:01:49.372762",
     "exception": false,
     "start_time": "2022-03-07T09:01:49.323333",
     "status": "completed"
    },
    "tags": []
   },
   "outputs": [],
   "source": [
    "#importing pandas libraries for data analysis\n",
    "import pandas as pd\n",
    "\n",
    "data = pd.read_csv('../input/shopping-data/Shopping_CustomerData.csv')"
   ]
  },
  {
   "cell_type": "code",
   "execution_count": 2,
   "id": "5ae31e03",
   "metadata": {
    "execution": {
     "iopub.execute_input": "2022-03-07T09:01:49.414972Z",
     "iopub.status.busy": "2022-03-07T09:01:49.413989Z",
     "iopub.status.idle": "2022-03-07T09:01:49.428871Z",
     "shell.execute_reply": "2022-03-07T09:01:49.429560Z",
     "shell.execute_reply.started": "2022-03-07T08:03:26.279276Z"
    },
    "papermill": {
     "duration": 0.04058,
     "end_time": "2022-03-07T09:01:49.429782",
     "exception": false,
     "start_time": "2022-03-07T09:01:49.389202",
     "status": "completed"
    },
    "tags": []
   },
   "outputs": [
    {
     "data": {
      "text/html": [
       "<div>\n",
       "<style scoped>\n",
       "    .dataframe tbody tr th:only-of-type {\n",
       "        vertical-align: middle;\n",
       "    }\n",
       "\n",
       "    .dataframe tbody tr th {\n",
       "        vertical-align: top;\n",
       "    }\n",
       "\n",
       "    .dataframe thead th {\n",
       "        text-align: right;\n",
       "    }\n",
       "</style>\n",
       "<table border=\"1\" class=\"dataframe\">\n",
       "  <thead>\n",
       "    <tr style=\"text-align: right;\">\n",
       "      <th></th>\n",
       "      <th>CustomerID</th>\n",
       "      <th>CustomerGender</th>\n",
       "      <th>CustomerAge</th>\n",
       "      <th>CustomerCity</th>\n",
       "      <th>AnnualIncome</th>\n",
       "      <th>CreditScore</th>\n",
       "      <th>SpendingScore</th>\n",
       "      <th>CustomerCityID</th>\n",
       "    </tr>\n",
       "  </thead>\n",
       "  <tbody>\n",
       "    <tr>\n",
       "      <th>0</th>\n",
       "      <td>1001</td>\n",
       "      <td>Male</td>\n",
       "      <td>49</td>\n",
       "      <td>Bengaluru</td>\n",
       "      <td>527547.58850</td>\n",
       "      <td>653</td>\n",
       "      <td>78</td>\n",
       "      <td>1</td>\n",
       "    </tr>\n",
       "    <tr>\n",
       "      <th>1</th>\n",
       "      <td>1002</td>\n",
       "      <td>Male</td>\n",
       "      <td>59</td>\n",
       "      <td>Bengaluru</td>\n",
       "      <td>207143.19760</td>\n",
       "      <td>630</td>\n",
       "      <td>63</td>\n",
       "      <td>1</td>\n",
       "    </tr>\n",
       "    <tr>\n",
       "      <th>2</th>\n",
       "      <td>1003</td>\n",
       "      <td>Female</td>\n",
       "      <td>54</td>\n",
       "      <td>Delhi</td>\n",
       "      <td>164423.84570</td>\n",
       "      <td>555</td>\n",
       "      <td>69</td>\n",
       "      <td>4</td>\n",
       "    </tr>\n",
       "    <tr>\n",
       "      <th>3</th>\n",
       "      <td>1004</td>\n",
       "      <td>Female</td>\n",
       "      <td>42</td>\n",
       "      <td>Bengaluru</td>\n",
       "      <td>56220.36443</td>\n",
       "      <td>699</td>\n",
       "      <td>30</td>\n",
       "      <td>1</td>\n",
       "    </tr>\n",
       "    <tr>\n",
       "      <th>4</th>\n",
       "      <td>1005</td>\n",
       "      <td>Female</td>\n",
       "      <td>30</td>\n",
       "      <td>Bengaluru</td>\n",
       "      <td>256194.36190</td>\n",
       "      <td>793</td>\n",
       "      <td>6</td>\n",
       "      <td>1</td>\n",
       "    </tr>\n",
       "  </tbody>\n",
       "</table>\n",
       "</div>"
      ],
      "text/plain": [
       "   CustomerID CustomerGender  CustomerAge CustomerCity  AnnualIncome  \\\n",
       "0        1001           Male           49    Bengaluru  527547.58850   \n",
       "1        1002           Male           59    Bengaluru  207143.19760   \n",
       "2        1003         Female           54        Delhi  164423.84570   \n",
       "3        1004         Female           42    Bengaluru   56220.36443   \n",
       "4        1005         Female           30    Bengaluru  256194.36190   \n",
       "\n",
       "   CreditScore  SpendingScore  CustomerCityID  \n",
       "0          653             78               1  \n",
       "1          630             63               1  \n",
       "2          555             69               4  \n",
       "3          699             30               1  \n",
       "4          793              6               1  "
      ]
     },
     "execution_count": 2,
     "metadata": {},
     "output_type": "execute_result"
    }
   ],
   "source": [
    "data.head()"
   ]
  },
  {
   "cell_type": "code",
   "execution_count": 3,
   "id": "98de3724",
   "metadata": {
    "execution": {
     "iopub.execute_input": "2022-03-07T09:01:49.485873Z",
     "iopub.status.busy": "2022-03-07T09:01:49.483081Z",
     "iopub.status.idle": "2022-03-07T09:01:49.493995Z",
     "shell.execute_reply": "2022-03-07T09:01:49.493123Z",
     "shell.execute_reply.started": "2022-03-07T08:03:37.003588Z"
    },
    "papermill": {
     "duration": 0.043186,
     "end_time": "2022-03-07T09:01:49.494232",
     "exception": false,
     "start_time": "2022-03-07T09:01:49.451046",
     "status": "completed"
    },
    "tags": []
   },
   "outputs": [
    {
     "data": {
      "text/html": [
       "<div>\n",
       "<style scoped>\n",
       "    .dataframe tbody tr th:only-of-type {\n",
       "        vertical-align: middle;\n",
       "    }\n",
       "\n",
       "    .dataframe tbody tr th {\n",
       "        vertical-align: top;\n",
       "    }\n",
       "\n",
       "    .dataframe thead th {\n",
       "        text-align: right;\n",
       "    }\n",
       "</style>\n",
       "<table border=\"1\" class=\"dataframe\">\n",
       "  <thead>\n",
       "    <tr style=\"text-align: right;\">\n",
       "      <th></th>\n",
       "      <th>CustomerID</th>\n",
       "      <th>CustomerGender</th>\n",
       "      <th>CustomerAge</th>\n",
       "      <th>CustomerCity</th>\n",
       "      <th>AnnualIncome</th>\n",
       "      <th>CreditScore</th>\n",
       "      <th>SpendingScore</th>\n",
       "      <th>CustomerCityID</th>\n",
       "    </tr>\n",
       "  </thead>\n",
       "  <tbody>\n",
       "    <tr>\n",
       "      <th>195</th>\n",
       "      <td>1196</td>\n",
       "      <td>Female</td>\n",
       "      <td>54</td>\n",
       "      <td>Delhi</td>\n",
       "      <td>317466.4207</td>\n",
       "      <td>601</td>\n",
       "      <td>52</td>\n",
       "      <td>4</td>\n",
       "    </tr>\n",
       "    <tr>\n",
       "      <th>196</th>\n",
       "      <td>1197</td>\n",
       "      <td>Female</td>\n",
       "      <td>20</td>\n",
       "      <td>Bengaluru</td>\n",
       "      <td>323305.5002</td>\n",
       "      <td>554</td>\n",
       "      <td>58</td>\n",
       "      <td>1</td>\n",
       "    </tr>\n",
       "    <tr>\n",
       "      <th>197</th>\n",
       "      <td>1198</td>\n",
       "      <td>Male</td>\n",
       "      <td>44</td>\n",
       "      <td>Chennai</td>\n",
       "      <td>109058.5443</td>\n",
       "      <td>844</td>\n",
       "      <td>36</td>\n",
       "      <td>2</td>\n",
       "    </tr>\n",
       "    <tr>\n",
       "      <th>198</th>\n",
       "      <td>1199</td>\n",
       "      <td>Male</td>\n",
       "      <td>28</td>\n",
       "      <td>Delhi</td>\n",
       "      <td>160116.8930</td>\n",
       "      <td>837</td>\n",
       "      <td>24</td>\n",
       "      <td>4</td>\n",
       "    </tr>\n",
       "    <tr>\n",
       "      <th>199</th>\n",
       "      <td>1200</td>\n",
       "      <td>Male</td>\n",
       "      <td>41</td>\n",
       "      <td>Chennai</td>\n",
       "      <td>280081.3901</td>\n",
       "      <td>789</td>\n",
       "      <td>31</td>\n",
       "      <td>2</td>\n",
       "    </tr>\n",
       "  </tbody>\n",
       "</table>\n",
       "</div>"
      ],
      "text/plain": [
       "     CustomerID CustomerGender  CustomerAge CustomerCity  AnnualIncome  \\\n",
       "195        1196         Female           54        Delhi   317466.4207   \n",
       "196        1197         Female           20    Bengaluru   323305.5002   \n",
       "197        1198           Male           44      Chennai   109058.5443   \n",
       "198        1199           Male           28        Delhi   160116.8930   \n",
       "199        1200           Male           41      Chennai   280081.3901   \n",
       "\n",
       "     CreditScore  SpendingScore  CustomerCityID  \n",
       "195          601             52               4  \n",
       "196          554             58               1  \n",
       "197          844             36               2  \n",
       "198          837             24               4  \n",
       "199          789             31               2  "
      ]
     },
     "execution_count": 3,
     "metadata": {},
     "output_type": "execute_result"
    }
   ],
   "source": [
    "data.tail()"
   ]
  },
  {
   "cell_type": "code",
   "execution_count": 4,
   "id": "e3bee4b3",
   "metadata": {
    "execution": {
     "iopub.execute_input": "2022-03-07T09:01:49.539050Z",
     "iopub.status.busy": "2022-03-07T09:01:49.538478Z",
     "iopub.status.idle": "2022-03-07T09:01:49.544800Z",
     "shell.execute_reply": "2022-03-07T09:01:49.545528Z",
     "shell.execute_reply.started": "2022-03-07T08:04:27.463083Z"
    },
    "papermill": {
     "duration": 0.026391,
     "end_time": "2022-03-07T09:01:49.545749",
     "exception": false,
     "start_time": "2022-03-07T09:01:49.519358",
     "status": "completed"
    },
    "tags": []
   },
   "outputs": [
    {
     "name": "stdout",
     "output_type": "stream",
     "text": [
      "CustomerID        0\n",
      "CustomerGender    0\n",
      "CustomerAge       0\n",
      "CustomerCity      0\n",
      "AnnualIncome      0\n",
      "CreditScore       0\n",
      "SpendingScore     0\n",
      "CustomerCityID    0\n",
      "dtype: int64\n"
     ]
    }
   ],
   "source": [
    "#checking the null values in all columns\n",
    "\n",
    "print(data.isnull().sum())"
   ]
  },
  {
   "cell_type": "markdown",
   "id": "180f9f49",
   "metadata": {
    "papermill": {
     "duration": 0.017374,
     "end_time": "2022-03-07T09:01:49.583647",
     "exception": false,
     "start_time": "2022-03-07T09:01:49.566273",
     "status": "completed"
    },
    "tags": []
   },
   "source": [
    "# Calculate Measures of Central Tendency - Mean, Median, and Mode for the Annuallncome column and print their values"
   ]
  },
  {
   "cell_type": "code",
   "execution_count": 5,
   "id": "f61807af",
   "metadata": {
    "execution": {
     "iopub.execute_input": "2022-03-07T09:01:49.620940Z",
     "iopub.status.busy": "2022-03-07T09:01:49.620347Z",
     "iopub.status.idle": "2022-03-07T09:01:49.627785Z",
     "shell.execute_reply": "2022-03-07T09:01:49.628280Z",
     "shell.execute_reply.started": "2022-03-07T08:09:03.552734Z"
    },
    "papermill": {
     "duration": 0.027507,
     "end_time": "2022-03-07T09:01:49.628448",
     "exception": false,
     "start_time": "2022-03-07T09:01:49.600941",
     "status": "completed"
    },
    "tags": []
   },
   "outputs": [
    {
     "name": "stdout",
     "output_type": "stream",
     "text": [
      "285143.9316464401\n"
     ]
    }
   ],
   "source": [
    "#FINDING MEAN\n",
    "mean= data['AnnualIncome'].mean()\n",
    "print(mean)"
   ]
  },
  {
   "cell_type": "markdown",
   "id": "af813f39",
   "metadata": {
    "papermill": {
     "duration": 0.017077,
     "end_time": "2022-03-07T09:01:49.662898",
     "exception": false,
     "start_time": "2022-03-07T09:01:49.645821",
     "status": "completed"
    },
    "tags": []
   },
   "source": [
    "We can see from above the average annual income of the customers at supermarket"
   ]
  },
  {
   "cell_type": "code",
   "execution_count": 6,
   "id": "86734f20",
   "metadata": {
    "execution": {
     "iopub.execute_input": "2022-03-07T09:01:49.701863Z",
     "iopub.status.busy": "2022-03-07T09:01:49.699860Z",
     "iopub.status.idle": "2022-03-07T09:01:49.704589Z",
     "shell.execute_reply": "2022-03-07T09:01:49.705013Z",
     "shell.execute_reply.started": "2022-03-07T08:08:00.951971Z"
    },
    "papermill": {
     "duration": 0.024952,
     "end_time": "2022-03-07T09:01:49.705196",
     "exception": false,
     "start_time": "2022-03-07T09:01:49.680244",
     "status": "completed"
    },
    "tags": []
   },
   "outputs": [
    {
     "name": "stdout",
     "output_type": "stream",
     "text": [
      "263418.50555\n"
     ]
    }
   ],
   "source": [
    "#FINDING MEDIAN\n",
    "median = data['AnnualIncome'].median()\n",
    "print(median)"
   ]
  },
  {
   "cell_type": "code",
   "execution_count": 7,
   "id": "2e126a79",
   "metadata": {
    "execution": {
     "iopub.execute_input": "2022-03-07T09:01:49.744513Z",
     "iopub.status.busy": "2022-03-07T09:01:49.743897Z",
     "iopub.status.idle": "2022-03-07T09:01:49.756119Z",
     "shell.execute_reply": "2022-03-07T09:01:49.756924Z",
     "shell.execute_reply.started": "2022-03-07T08:08:48.385304Z"
    },
    "papermill": {
     "duration": 0.034055,
     "end_time": "2022-03-07T09:01:49.757183",
     "exception": false,
     "start_time": "2022-03-07T09:01:49.723128",
     "status": "completed"
    },
    "tags": []
   },
   "outputs": [
    {
     "name": "stdout",
     "output_type": "stream",
     "text": [
      "0        2577.057456\n",
      "1        5121.652342\n",
      "2       10349.414070\n",
      "3       12396.061280\n",
      "4       15305.842870\n",
      "           ...      \n",
      "195    651534.309800\n",
      "196    671028.187200\n",
      "197    675461.735700\n",
      "198    687212.770700\n",
      "199    695407.091700\n",
      "Length: 200, dtype: float64\n"
     ]
    }
   ],
   "source": [
    "#FINDING MODE\n",
    "mode= data['AnnualIncome'].mode() \n",
    "print(mode)"
   ]
  },
  {
   "cell_type": "markdown",
   "id": "0d756130",
   "metadata": {
    "execution": {
     "iopub.execute_input": "2022-03-07T08:12:14.289745Z",
     "iopub.status.busy": "2022-03-07T08:12:14.289416Z",
     "iopub.status.idle": "2022-03-07T08:12:14.304159Z",
     "shell.execute_reply": "2022-03-07T08:12:14.303427Z",
     "shell.execute_reply.started": "2022-03-07T08:12:14.289711Z"
    },
    "papermill": {
     "duration": 0.017907,
     "end_time": "2022-03-07T09:01:49.793861",
     "exception": false,
     "start_time": "2022-03-07T09:01:49.775954",
     "status": "completed"
    },
    "tags": []
   },
   "source": [
    "#Another way of finding mode is by importing from statistics\n",
    "\n",
    "import numpy as np\n",
    "\n",
    "from statistics import mode\n",
    "\n",
    "mode(data)"
   ]
  },
  {
   "cell_type": "markdown",
   "id": "37c9e48d",
   "metadata": {
    "papermill": {
     "duration": 0.017779,
     "end_time": "2022-03-07T09:01:49.829908",
     "exception": false,
     "start_time": "2022-03-07T09:01:49.812129",
     "status": "completed"
    },
    "tags": []
   },
   "source": [
    "# Obtain different summary statistics (Variance, Standard Deviation, and Skewness) for the Spending Score and print their values"
   ]
  },
  {
   "cell_type": "code",
   "execution_count": 8,
   "id": "db7c6a62",
   "metadata": {
    "execution": {
     "iopub.execute_input": "2022-03-07T09:01:49.872100Z",
     "iopub.status.busy": "2022-03-07T09:01:49.871445Z",
     "iopub.status.idle": "2022-03-07T09:01:49.874121Z",
     "shell.execute_reply": "2022-03-07T09:01:49.874654Z",
     "shell.execute_reply.started": "2022-03-07T08:16:12.493605Z"
    },
    "papermill": {
     "duration": 0.026316,
     "end_time": "2022-03-07T09:01:49.874812",
     "exception": false,
     "start_time": "2022-03-07T09:01:49.848496",
     "status": "completed"
    },
    "tags": []
   },
   "outputs": [
    {
     "name": "stdout",
     "output_type": "stream",
     "text": [
      "824.9929396984925\n"
     ]
    }
   ],
   "source": [
    "#FINDING THE VARIANCE OF SPENDING SCORE TO SEE HOW FAR I8S THE EXPENSE FROM DATA\n",
    "var = data['SpendingScore'].var()\n",
    "print(var)"
   ]
  },
  {
   "cell_type": "code",
   "execution_count": 9,
   "id": "17a15b55",
   "metadata": {
    "execution": {
     "iopub.execute_input": "2022-03-07T09:01:49.915986Z",
     "iopub.status.busy": "2022-03-07T09:01:49.914958Z",
     "iopub.status.idle": "2022-03-07T09:01:49.920967Z",
     "shell.execute_reply": "2022-03-07T09:01:49.921747Z",
     "shell.execute_reply.started": "2022-03-07T08:19:19.890796Z"
    },
    "papermill": {
     "duration": 0.028656,
     "end_time": "2022-03-07T09:01:49.921992",
     "exception": false,
     "start_time": "2022-03-07T09:01:49.893336",
     "status": "completed"
    },
    "tags": []
   },
   "outputs": [
    {
     "name": "stdout",
     "output_type": "stream",
     "text": [
      "28.722690328353515\n"
     ]
    }
   ],
   "source": [
    "#FINDING STANDARD DEVIATION\n",
    "std= data['SpendingScore'].std() \n",
    "print(std)"
   ]
  },
  {
   "cell_type": "code",
   "execution_count": 10,
   "id": "7f44324d",
   "metadata": {
    "execution": {
     "iopub.execute_input": "2022-03-07T09:01:49.967612Z",
     "iopub.status.busy": "2022-03-07T09:01:49.966767Z",
     "iopub.status.idle": "2022-03-07T09:01:50.843816Z",
     "shell.execute_reply": "2022-03-07T09:01:50.844354Z",
     "shell.execute_reply.started": "2022-03-07T08:20:42.422185Z"
    },
    "papermill": {
     "duration": 0.902222,
     "end_time": "2022-03-07T09:01:50.844527",
     "exception": false,
     "start_time": "2022-03-07T09:01:49.942305",
     "status": "completed"
    },
    "tags": []
   },
   "outputs": [
    {
     "data": {
      "text/plain": [
       "0.10081837365183154"
      ]
     },
     "execution_count": 10,
     "metadata": {},
     "output_type": "execute_result"
    }
   ],
   "source": [
    "#finding standard deviation\n",
    "from scipy.stats import skew \n",
    "skew(data['SpendingScore']) \n",
    "#The term “skewness” refers to the statistical metric that is used to measure the asymmetry of a probability distribution of random variables about its own mean, and its value can be positive, negative, or undefined."
   ]
  },
  {
   "cell_type": "markdown",
   "id": "16062f49",
   "metadata": {
    "papermill": {
     "duration": 0.018854,
     "end_time": "2022-03-07T09:01:50.883665",
     "exception": false,
     "start_time": "2022-03-07T09:01:50.864811",
     "status": "completed"
    },
    "tags": []
   },
   "source": [
    "# Detect Outliers based on data in Annuallncome and SpendingScore column using Z-Score"
   ]
  },
  {
   "cell_type": "code",
   "execution_count": 11,
   "id": "bb282e1f",
   "metadata": {
    "execution": {
     "iopub.execute_input": "2022-03-07T09:01:50.925529Z",
     "iopub.status.busy": "2022-03-07T09:01:50.924860Z",
     "iopub.status.idle": "2022-03-07T09:01:50.942828Z",
     "shell.execute_reply": "2022-03-07T09:01:50.943325Z",
     "shell.execute_reply.started": "2022-03-07T08:25:02.050629Z"
    },
    "papermill": {
     "duration": 0.040851,
     "end_time": "2022-03-07T09:01:50.943563",
     "exception": false,
     "start_time": "2022-03-07T09:01:50.902712",
     "status": "completed"
    },
    "tags": []
   },
   "outputs": [
    {
     "name": "stdout",
     "output_type": "stream",
     "text": [
      "     AnnualIncome  SpendingScore\n",
      "0        1.435993       0.952679\n",
      "1        0.462074       0.429133\n",
      "2        0.715143       0.638551\n",
      "3        1.356137       0.722668\n",
      "4        0.171497       1.560341\n",
      "..            ...            ...\n",
      "195      0.191478       0.045199\n",
      "196      0.226068       0.254618\n",
      "197      1.043125       0.513249\n",
      "198      0.740657       0.932086\n",
      "199      0.029990       0.687765\n",
      "\n",
      "[200 rows x 2 columns]\n",
      "z-score based on data in AnnualIncome and SpendingScore columns\n",
      "\n"
     ]
    }
   ],
   "source": [
    "#An outlier is a piece of data that is an abnormal distance from other points. In other words, it's data that lies outside the other values in the set.\n",
    "from scipy import stats\n",
    "import numpy as np\n",
    "z = np.abs(stats.zscore(data[['AnnualIncome','SpendingScore']]))\n",
    "print(z)\n",
    "print('z-score based on data in AnnualIncome and SpendingScore columns\\n')"
   ]
  },
  {
   "cell_type": "markdown",
   "id": "bb95e459",
   "metadata": {
    "papermill": {
     "duration": 0.018995,
     "end_time": "2022-03-07T09:01:50.982183",
     "exception": false,
     "start_time": "2022-03-07T09:01:50.963188",
     "status": "completed"
    },
    "tags": []
   },
   "source": [
    "### zscore(arr, axis=0, ddof=0) function computes the relative Z-score of the input data, relative to the sample mean and standard deviation"
   ]
  },
  {
   "cell_type": "code",
   "execution_count": 12,
   "id": "01fe4829",
   "metadata": {
    "execution": {
     "iopub.execute_input": "2022-03-07T09:01:51.023970Z",
     "iopub.status.busy": "2022-03-07T09:01:51.023403Z",
     "iopub.status.idle": "2022-03-07T09:01:51.029864Z",
     "shell.execute_reply": "2022-03-07T09:01:51.029259Z",
     "shell.execute_reply.started": "2022-03-07T08:30:06.005730Z"
    },
    "papermill": {
     "duration": 0.028424,
     "end_time": "2022-03-07T09:01:51.029990",
     "exception": false,
     "start_time": "2022-03-07T09:01:51.001566",
     "status": "completed"
    },
    "tags": []
   },
   "outputs": [
    {
     "name": "stdout",
     "output_type": "stream",
     "text": [
      "(array([ 62,  65, 114, 148, 155, 166, 171, 177, 194]), array([0, 0, 0, 0, 0, 0, 0, 0, 0]))\n"
     ]
    }
   ],
   "source": [
    "threshold= 2 #Defining a Threshold to identify an Outlier \n",
    "print(np.where(z > 2))"
   ]
  },
  {
   "cell_type": "markdown",
   "id": "ad6b6d6b",
   "metadata": {
    "papermill": {
     "duration": 0.019397,
     "end_time": "2022-03-07T09:01:51.069795",
     "exception": false,
     "start_time": "2022-03-07T09:01:51.050398",
     "status": "completed"
    },
    "tags": []
   },
   "source": [
    "### From above, you can see that the first array contains the list of row numbers and the second array contains corresponding column numbers, which means z[62][0] have a Z-Score higher than 2 So, the datapoint - 62nd record on column Annuallncome is an Outlier"
   ]
  },
  {
   "cell_type": "markdown",
   "id": "c90a1b36",
   "metadata": {
    "execution": {
     "iopub.execute_input": "2022-03-07T08:55:19.682717Z",
     "iopub.status.busy": "2022-03-07T08:55:19.681914Z",
     "iopub.status.idle": "2022-03-07T08:55:19.689096Z",
     "shell.execute_reply": "2022-03-07T08:55:19.688507Z",
     "shell.execute_reply.started": "2022-03-07T08:55:19.682667Z"
    },
    "papermill": {
     "duration": 0.019511,
     "end_time": "2022-03-07T09:01:51.108979",
     "exception": false,
     "start_time": "2022-03-07T09:01:51.089468",
     "status": "completed"
    },
    "tags": []
   },
   "source": [
    "# Detect Outliers based on data in CustomerAge and SpendingScore column using Scatter Plot"
   ]
  },
  {
   "cell_type": "code",
   "execution_count": 13,
   "id": "e308ece6",
   "metadata": {
    "execution": {
     "iopub.execute_input": "2022-03-07T09:01:51.154984Z",
     "iopub.status.busy": "2022-03-07T09:01:51.154319Z",
     "iopub.status.idle": "2022-03-07T09:01:51.522129Z",
     "shell.execute_reply": "2022-03-07T09:01:51.522585Z",
     "shell.execute_reply.started": "2022-03-07T08:57:01.991779Z"
    },
    "papermill": {
     "duration": 0.394006,
     "end_time": "2022-03-07T09:01:51.522745",
     "exception": false,
     "start_time": "2022-03-07T09:01:51.128739",
     "status": "completed"
    },
    "tags": []
   },
   "outputs": [
    {
     "data": {
      "text/plain": [
       "<AxesSubplot:xlabel='CustomerAge', ylabel='SpendingScore'>"
      ]
     },
     "execution_count": 13,
     "metadata": {},
     "output_type": "execute_result"
    },
    {
     "data": {
      "image/png": "[encoded data removed]",
      "text/plain": [
       "<Figure size 432x288 with 1 Axes>"
      ]
     },
     "metadata": {
      "needs_background": "light"
     },
     "output_type": "display_data"
    }
   ],
   "source": [
    "%matplotlib inline \n",
    "import seaborn as sns\n",
    "sns.scatterplot(x=\"CustomerAge\", y=\"SpendingScore\", data=data) "
   ]
  },
  {
   "cell_type": "markdown",
   "id": "f8dcbe19",
   "metadata": {
    "papermill": {
     "duration": 0.020977,
     "end_time": "2022-03-07T09:01:51.564460",
     "exception": false,
     "start_time": "2022-03-07T09:01:51.543483",
     "status": "completed"
    },
    "tags": []
   },
   "source": [
    "### From above, you can see that Outliers do not seem to be present in this dataset"
   ]
  }
 ],
 "metadata": {
  "kernelspec": {
   "display_name": "Python 3",
   "language": "python",
   "name": "python3"
  },
  "language_info": {
   "codemirror_mode": {
    "name": "ipython",
    "version": 3
   },
   "file_extension": ".py",
   "mimetype": "text/x-python",
   "name": "python",
   "nbconvert_exporter": "python",
   "pygments_lexer": "ipython3",
   "version": "3.7.12"
  },
  "papermill": {
   "default_parameters": {},
   "duration": 11.919011,
   "end_time": "2022-03-07T09:01:52.295346",
   "environment_variables": {},
   "exception": null,
   "input_path": "__notebook__.ipynb",
   "output_path": "__notebook__.ipynb",
   "parameters": {},
   "start_time": "2022-03-07T09:01:40.376335",
   "version": "2.3.3"
  }
 },
 "nbformat": 4,
 "nbformat_minor": 5
}
